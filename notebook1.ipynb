{
    "cells": [
        {
            "cell_type": "markdown",
            "metadata": {
                "collapsed": true
            },
            "source": "# Anota\u00e7\u00f5es do curso IBM"
        },
        {
            "cell_type": "code",
            "execution_count": 1,
            "metadata": {},
            "outputs": [],
            "source": "def conta_letras(frase,contar=\"vogais\"):\n    frase=frase.lower()\n    frase1=\"\"\n    for i in range(len(frase)):\n        if frase[i]!=\" \":\n            frase1+=frase[i]\n    v=0\n    for i in range(len(frase1)):\n        if frase1[i]==\"a\" or frase1[i]==\"e\" or frase1[i]==\"i\" or frase1[i]==\"o\" or frase1[i]==\"u\":\n            v+=1\n    if contar==\"vogais\":\n        return v\n    if contar==\"consoantes\":\n        return len(frase1)-v"
        },
        {
            "cell_type": "code",
            "execution_count": 2,
            "metadata": {},
            "outputs": [
                {
                    "data": {
                        "text/plain": "4"
                    },
                    "execution_count": 2,
                    "metadata": {},
                    "output_type": "execute_result"
                }
            ],
            "source": "conta_letras(\"oiee\")"
        },
        {
            "cell_type": "code",
            "execution_count": null,
            "metadata": {},
            "outputs": [],
            "source": ""
        }
    ],
    "metadata": {
        "kernelspec": {
            "display_name": "Python 3.7",
            "language": "python",
            "name": "python3"
        },
        "language_info": {
            "codemirror_mode": {
                "name": "ipython",
                "version": 3
            },
            "file_extension": ".py",
            "mimetype": "text/x-python",
            "name": "python",
            "nbconvert_exporter": "python",
            "pygments_lexer": "ipython3",
            "version": "3.7.9"
        }
    },
    "nbformat": 4,
    "nbformat_minor": 1
}